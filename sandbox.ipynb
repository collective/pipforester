{
 "cells": [
  {
   "cell_type": "code",
   "execution_count": 1,
   "metadata": {},
   "outputs": [],
   "source": [
    "import networkx as nx\n",
    "\n",
    "G = nx.Graph()\n",
    "G.add_node(1, color='blue', style='filled')\n",
    "G.add_node(2, color='red', style='filled')\n",
    "G.add_edge(1,2)\n",
    "G.add_node(3, color='blue',style='filled')\n",
    "G.add_node(4, color='red',style='filled')\n",
    "G.add_edge(3,4)\n",
    "G.add_edge(4,10)\n",
    "# G.add_path([10,20,30,40,50])\n",
    "\n",
    "A = nx.nx_agraph.to_agraph(G) # uses pygraphviz\n",
    "red_nodes = [n for n,d in G.nodes.items() if d.get('color')=='red']\n",
    "blue_nodes = [n for n,d in G.nodes.items() if d.get('color')=='blue']\n",
    "A.add_subgraph(red_nodes, name = 'cluster1', color='red')\n",
    "A.add_subgraph(blue_nodes, name = 'cluster2', color='blue')\n",
    "A.write('colors.dot')\n",
    "A.layout('dot')\n",
    "A.draw('colors.png')"
   ]
  }
 ],
 "metadata": {
  "kernelspec": {
   "display_name": "venv",
   "language": "python",
   "name": "python3"
  },
  "language_info": {
   "codemirror_mode": {
    "name": "ipython",
    "version": 3
   },
   "file_extension": ".py",
   "mimetype": "text/x-python",
   "name": "python",
   "nbconvert_exporter": "python",
   "pygments_lexer": "ipython3",
   "version": "3.11.0"
  },
  "orig_nbformat": 4,
  "vscode": {
   "interpreter": {
    "hash": "131d31f71bb6bc23c7dec9a544b3103e35cae07c2151ff33b398d93ab2b27c87"
   }
  }
 },
 "nbformat": 4,
 "nbformat_minor": 2
}
